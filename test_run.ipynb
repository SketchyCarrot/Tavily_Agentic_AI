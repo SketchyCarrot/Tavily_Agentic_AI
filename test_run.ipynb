{
 "cells": [
  {
   "cell_type": "code",
   "execution_count": 113,
   "id": "0cc94dbe",
   "metadata": {},
   "outputs": [],
   "source": [
    "import getpass\n",
    "import os\n",
    "\n",
    "if not os.environ.get(\"GROQ_API_KEY\"):\n",
    "  os.environ[\"GROQ_API_KEY\"] = getpass.getpass(\"Enter API key for Groq: \")\n",
    "\n",
    "from langchain.chat_models import init_chat_model\n",
    "\n",
    "model = init_chat_model(\"llama3-8b-8192\", model_provider=\"groq\")"
   ]
  },
  {
   "cell_type": "code",
   "execution_count": 114,
   "id": "cab46c22",
   "metadata": {},
   "outputs": [],
   "source": [
    "template_string = \"\"\"Translate the text that is inside triple backticks into {style}. text: ```{text}```\"\"\""
   ]
  },
  {
   "cell_type": "code",
   "execution_count": 115,
   "id": "f1e575c8",
   "metadata": {},
   "outputs": [],
   "source": [
    "from langchain.prompts import ChatPromptTemplate\n",
    "\n",
    "promt_template = ChatPromptTemplate.from_template(template_string)"
   ]
  },
  {
   "cell_type": "code",
   "execution_count": 116,
   "id": "5f44ae58",
   "metadata": {},
   "outputs": [
    {
     "data": {
      "text/plain": [
       "['style', 'text']"
      ]
     },
     "execution_count": 116,
     "metadata": {},
     "output_type": "execute_result"
    }
   ],
   "source": [
    "promt_template.messages[0].input_variables"
   ]
  },
  {
   "cell_type": "code",
   "execution_count": 117,
   "id": "ecc27fcb",
   "metadata": {},
   "outputs": [],
   "source": [
    "custom_style = \"An otaku style\""
   ]
  },
  {
   "cell_type": "code",
   "execution_count": 118,
   "id": "64cbdb2f",
   "metadata": {},
   "outputs": [],
   "source": [
    "custom_text = \"The ice-cream truck is so far away and it asks for a 1000 rupees! So damn expensive!\""
   ]
  },
  {
   "cell_type": "code",
   "execution_count": 119,
   "id": "f26dd4f9",
   "metadata": {},
   "outputs": [],
   "source": [
    "custom_messages = promt_template.format_messages(\n",
    "        style=custom_style,\n",
    "        text=custom_text,\n",
    ")"
   ]
  },
  {
   "cell_type": "code",
   "execution_count": 120,
   "id": "dd6c395c",
   "metadata": {},
   "outputs": [
    {
     "name": "stdout",
     "output_type": "stream",
     "text": [
      "<class 'str'>\n"
     ]
    }
   ],
   "source": [
    "print(type(custom_text))"
   ]
  },
  {
   "cell_type": "code",
   "execution_count": 121,
   "id": "c57e2b84",
   "metadata": {},
   "outputs": [
    {
     "name": "stdout",
     "output_type": "stream",
     "text": [
      "<class 'str'>\n"
     ]
    }
   ],
   "source": [
    "print(type(custom_text[0]))"
   ]
  },
  {
   "cell_type": "code",
   "execution_count": 122,
   "id": "63bb9b8a",
   "metadata": {},
   "outputs": [
    {
     "name": "stdout",
     "output_type": "stream",
     "text": [
      "```Ah, gosh darn it! The ice cream truck is, like, totally out of reach, man! And it's asking for a whoppin' 1000 rupees?! Like, are you kiddin' me?! That's, like, soooo darn expensive! I mean, I know it's not every day you see an ice cream truck, but come on! Can't they, like, lower the price or somethin'?! I'm talkin' serious cash, dude! 1000 rupees is like, a whole lotta yen! I mean, I'd have to, like, sell my soul to the otaku gods to get that kind of cash!\n"
     ]
    }
   ],
   "source": [
    "response = model(custom_messages)\n",
    "print(response.content)"
   ]
  },
  {
   "cell_type": "code",
   "execution_count": 123,
   "id": "cac8a1d5",
   "metadata": {},
   "outputs": [],
   "source": [
    "from langchain.output_parsers import ResponseSchema, StructuredOutputParser"
   ]
  },
  {
   "cell_type": "code",
   "execution_count": 139,
   "id": "0f450169",
   "metadata": {},
   "outputs": [],
   "source": [
    "content_schema = ResponseSchema(name=\"content\", description=\"The bdy of the response.\")\n",
    "references_schema = ResponseSchema(name=\"references\", description=\"The references used to generate the response with links.\")"
   ]
  },
  {
   "cell_type": "code",
   "execution_count": 140,
   "id": "cbb22d2a",
   "metadata": {},
   "outputs": [],
   "source": [
    "response_schemas = [content_schema, references_schema]"
   ]
  },
  {
   "cell_type": "code",
   "execution_count": 141,
   "id": "607f16e7",
   "metadata": {},
   "outputs": [],
   "source": [
    "output_parser = StructuredOutputParser.from_response_schemas(response_schemas)"
   ]
  },
  {
   "cell_type": "code",
   "execution_count": 142,
   "id": "0e6d0da9",
   "metadata": {},
   "outputs": [],
   "source": [
    "format_instructions = output_parser.get_format_instructions()"
   ]
  },
  {
   "cell_type": "code",
   "execution_count": 143,
   "id": "8e93041d",
   "metadata": {},
   "outputs": [
    {
     "data": {
      "text/plain": [
       "'The output should be a markdown code snippet formatted in the following schema, including the leading and trailing \"```json\" and \"```\":\\n\\n```json\\n{\\n\\t\"content\": string  // The bdy of the response.\\n\\t\"references\": string  // The references used to generate the response with links.\\n}\\n```'"
      ]
     },
     "execution_count": 143,
     "metadata": {},
     "output_type": "execute_result"
    }
   ],
   "source": [
    "format_instructions"
   ]
  },
  {
   "cell_type": "code",
   "execution_count": 144,
   "id": "0cfaefe0",
   "metadata": {},
   "outputs": [],
   "source": [
    "research_template = \"\"\"Read about {topic} and list 5 interesting facts about it. {format_instructions}\"\"\""
   ]
  },
  {
   "cell_type": "code",
   "execution_count": 145,
   "id": "67309335",
   "metadata": {},
   "outputs": [],
   "source": [
    "prompt2 = ChatPromptTemplate.from_template(template=research_template)"
   ]
  },
  {
   "cell_type": "code",
   "execution_count": 146,
   "id": "3805c021",
   "metadata": {},
   "outputs": [],
   "source": [
    "research_topic = \"The WannaCry Cyber Attack\""
   ]
  },
  {
   "cell_type": "code",
   "execution_count": 147,
   "id": "406b63c9",
   "metadata": {},
   "outputs": [],
   "source": [
    "custom_query = prompt2.format_messages(\n",
    "    topic=research_topic,\n",
    "    format_instructions=format_instructions,\n",
    ")"
   ]
  },
  {
   "cell_type": "code",
   "execution_count": 148,
   "id": "47be4fc2",
   "metadata": {},
   "outputs": [],
   "source": [
    "answer = model(custom_query)"
   ]
  },
  {
   "cell_type": "code",
   "execution_count": 149,
   "id": "2aab5a25",
   "metadata": {},
   "outputs": [
    {
     "name": "stdout",
     "output_type": "stream",
     "text": [
      "```json\n",
      "{\n",
      "  \"content\": \"\n",
      "**The WannaCry Cyber Attack: 5 Interesting Facts**\n",
      "\n",
      "### 1. **Global Impact**: WannaCry was a global cyber attack that affected over 200,000 computers in more than 150 countries. It was one of the most widespread cyber attacks in history.\n",
      "\n",
      "### 2. **EternalBlue Exploit**: WannaCry used the EternalBlue exploit, a Windows vulnerability that was discovered by the NSA and leaked by the Shadow Brokers hacking group. This exploit allowed the malware to spread quickly across networks.\n",
      "\n",
      "### 3. **Ransomware**: WannaCry was a ransomware attack, meaning that it encrypted files on infected computers and demanded payment in Bitcoin to restore access. The ransom demand was around $300-$600 per victim.\n",
      "\n",
      "### 4. **National Health Service (NHS) Impact**: The WannaCry attack had a significant impact on the UK's National Health Service (NHS), with many hospitals and clinics forced to shut down their IT systems. This led to delays and cancellations of medical treatments.\n",
      "\n",
      "### 5. **Patch Wednesday**: The WannaCry attack highlighted the importance of keeping software up to date. Microsoft had released a patch for the EternalBlue vulnerability in March 2017, but many users had not applied it. This led to the widespread spread of the malware. As a result, Microsoft introduced 'Patch Tuesday', a monthly update cycle to ensure users stay secure.\n",
      "\",\n",
      "  \"references\": \"https://en.wikipedia.org/wiki/WannaCry_ransomware_attack\"\n",
      "}\n",
      "```\n"
     ]
    }
   ],
   "source": [
    "print(answer.content)"
   ]
  },
  {
   "cell_type": "code",
   "execution_count": 150,
   "id": "46fbd2c7",
   "metadata": {},
   "outputs": [],
   "source": [
    "output_dictionary = output_parser.parse(answer.content)"
   ]
  },
  {
   "cell_type": "code",
   "execution_count": 151,
   "id": "59d25f8e",
   "metadata": {},
   "outputs": [
    {
     "data": {
      "text/plain": [
       "\"\\n**The WannaCry Cyber Attack: 5 Interesting Facts**\\n\\n### 1. **Global Impact**: WannaCry was a global cyber attack that affected over 200,000 computers in more than 150 countries. It was one of the most widespread cyber attacks in history.\\n\\n### 2. **EternalBlue Exploit**: WannaCry used the EternalBlue exploit, a Windows vulnerability that was discovered by the NSA and leaked by the Shadow Brokers hacking group. This exploit allowed the malware to spread quickly across networks.\\n\\n### 3. **Ransomware**: WannaCry was a ransomware attack, meaning that it encrypted files on infected computers and demanded payment in Bitcoin to restore access. The ransom demand was around $300-$600 per victim.\\n\\n### 4. **National Health Service (NHS) Impact**: The WannaCry attack had a significant impact on the UK's National Health Service (NHS), with many hospitals and clinics forced to shut down their IT systems. This led to delays and cancellations of medical treatments.\\n\\n### 5. **Patch Wednesday**: The WannaCry attack highlighted the importance of keeping software up to date. Microsoft had released a patch for the EternalBlue vulnerability in March 2017, but many users had not applied it. This led to the widespread spread of the malware. As a result, Microsoft introduced 'Patch Tuesday', a monthly update cycle to ensure users stay secure.\\n\""
      ]
     },
     "execution_count": 151,
     "metadata": {},
     "output_type": "execute_result"
    }
   ],
   "source": [
    "output_dictionary.get(\"content\")"
   ]
  },
  {
   "cell_type": "code",
   "execution_count": 152,
   "id": "395daa11",
   "metadata": {},
   "outputs": [
    {
     "data": {
      "text/plain": [
       "'https://en.wikipedia.org/wiki/WannaCry_ransomware_attack'"
      ]
     },
     "execution_count": 152,
     "metadata": {},
     "output_type": "execute_result"
    }
   ],
   "source": [
    "output_dictionary.get(\"references\")"
   ]
  },
  {
   "cell_type": "code",
   "execution_count": 2,
   "id": "6b8e2bab",
   "metadata": {},
   "outputs": [],
   "source": [
    "from tavily import TavilyClient\n",
    "import os\n",
    "\n",
    "TAVILY_API_KEY = \"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\"\n",
    "client = TavilyClient(api_key=TAVILY_API_KEY)\n",
    "\n",
    "def tavily_search_agent(query, search_depth=\"advanced\", max_results=7, include_answer=\"advanced\", include_images=True):\n",
    "        response = client.search(\n",
    "        query=\"NotPetya Cyber Attack\",\n",
    "        search_depth=search_depth,\n",
    "        max_results=max_results,\n",
    "        include_answer=include_answer,\n",
    "        include_images=include_images,\n",
    "        )\n",
    "        return response\n",
    "\n",
    "response = tavily_search_agent(\"NotPetya Cyber Attack\", search_depth=\"advanced\", max_results=7, include_answer=\"advanced\", include_images=True)"
   ]
  },
  {
   "cell_type": "code",
   "execution_count": 3,
   "id": "43e090c6",
   "metadata": {},
   "outputs": [
    {
     "data": {
      "text/plain": [
       "{'query': 'NotPetya Cyber Attack',\n",
       " 'follow_up_questions': None,\n",
       " 'answer': \"The NotPetya cyberattack, which occurred in June 2017, was one of the most devastating and costly cyberattacks in history. Initially disguised as ransomware, NotPetya quickly revealed its true destructive nature as a wiper, permanently destroying or irreversibly altering data with no known method of recovery. The attack spread globally, affecting hundreds of private firms and causing billions of dollars in damage. It exploited vulnerabilities in older versions of Microsoft Windows, using the EternalBlue exploit and Mimikatz tool to propagate through networks. NotPetya's primary target was Ukraine, with the attack believed to be state-sponsored by Russia as part of ongoing tensions between the two countries. The malware was distributed through a compromised software update from M.E.Doc, a Ukrainian accounting software provider. NotPetya's impact extended far beyond its initial targets, disrupting critical infrastructure, shipping operations, and even vaccine production, highlighting the potential for cyber attacks to cause widespread economic and operational disruptions on a global scale.\",\n",
       " 'images': ['https://zdblogs.zohocorp.com/sites/workplace/articles/files/petya_malware_final.jpg',\n",
       "  'https://cyfor.co.uk/wp-content/uploads/2017/06/ed27c059-9b7e-402e-91ce-69c7a1bd91e8-4-1024x512.png',\n",
       "  'https://integrisit.com/wp-content/uploads/2021/12/Ransomware-Alert-NotPetya.png',\n",
       "  'https://www.zdnet.com/a/img/resize/4200fd159fbf6a1e65a6c066ab9ff58f48b2d19e/2017/06/30/4e22d6e2-e688-45cd-965b-1df833e66041/petya-ransom-note.jpg?width=770&height=578&fit=crop&auto=webp',\n",
       "  'https://www.washingtonpost.com/rf/image_1484w/2010-2019/WashingtonPost/2017/07/01/Editorial-Opinion/Images/06053537-2249.jpg?t=20170517'],\n",
       " 'results': [{'url': 'https://www.armis.com/blog/reflecting-on-notpetya-a-milestone-in-cyberwarfare-history/',\n",
       "   'title': 'Reflecting on NotPetya: A Milestone in Cyberwarfare History | Armis',\n",
       "   'content': 'Six years have passed since the infamous NotPetya cyber attack sent shockwaves through the cybersecurity landscape. Initially disguised as ransomware, NotPetya quickly revealed its true destructive nature, spreading damage to businesses and governments around the world, resulting in billions of dollars in losses. Six years later, the impact of the NotPetya attack is still being felt, and the lessons learned from this incident continue to shape the way we approach cybersecurity.\\n\\nBackground [...] The NotPetya cyber attack remains a stark reminder of the evolving threats faced in the digital age. Six years on, the impact and lessons learned from this devastating attack continue to resonate. Organizations must invest in robust cybersecurity practices, including asset visibility, vulnerability management, and network segmentation. By adopting a proactive and comprehensive approach to cybersecurity, organizations can fortify their defenses and mitigate the risks posed by increasingly [...] NotPetya marked a significant turning point in the realm of\\xa0cyberwarfare, reshaping the understanding of destructive cyber attacks. It blurred the lines between traditional ransomware and state-sponsored cyber operations, as its primary goal was not financial gain but the disruption of critical infrastructure and data destruction. This attack demonstrated the potential for highly destructive malware to cause widespread economic and operational disruptions, posing significant risks to national',\n",
       "   'score': 0.92507464,\n",
       "   'raw_content': None},\n",
       "  {'url': 'https://en.wikipedia.org/wiki/2017_Ukraine_ransomware_attacks',\n",
       "   'title': '2017 Ukraine ransomware attacks - Wikipedia',\n",
       "   'content': 'The cyberattack involved malware that resembled Petya ransomware but was later found to function as a wiper rather than traditional ransomware. Like the WannaCry ransomware attack in May 2017, NotPetya used the EternalBlue exploit, which targeted a vulnerability in older versions of the Microsoft Windows operating system. When executed, NotPetya encrypted the master boot record (MBR), preventing the operating system from loading. It then displayed a message demanding USD 300 in Bitcoin, but [...] Security experts determined that the variant of Petya used in the 2017 Ukraine cyberattacks had been modified and was subsequently named NotPetya or Nyetna to distinguish it from the original ransomware. NotPetya encrypted entire files, not just the Master File Table (MFT), and in some cases, functioned as a wiper, permanently destroying or irreversibly altering data, with no known method of recovery.[21][22][23] Some security experts saw that the software could intercept passwords and perform [...] M.E.Doc provides periodic updates to its program through an update server. On 27 June 2017, a software update was distributed via M.E.Doc\\'s update server, after which reports of the NotPetya ransomware attack began to appear. British cybersecurity researcher Marcus Hutchins stated, \"It looks like the software\\'s automatic update system was compromised and used to download and run malware rather than updates for the software.\"[2] The company that develops M.E.Doc denied any intentional',\n",
       "   'score': 0.8016413,\n",
       "   'raw_content': None},\n",
       "  {'url': 'https://www.hypr.com/security-encyclopedia/notpetya',\n",
       "   'title': 'What is NotPetya? 5 Fast Facts | Security Encyclopedia - HYPR',\n",
       "   'content': 'NotPetya was a modified version of Petya, using two known exploits for older Windows versions: EternalBlue and Mimikatz. The former is a digital skeleton key that was disclosed in a catastrophic NSA data breach in early 2017. It enables outsiders remote access to run their own code. The latter is a proof-of-concept exploit made public in 2011 by Benjamin Delpy, a French security researcher. Delpy’s discovery showed that user passwords on Windows machines persisted in memory, and that they could [...] NotPetya had some recognizable features of its 2016 predecessor, the ransomware Petya, as well as the May 2017 WannaCry ransomware attack. However, the scale, motive and precedent NotPetya set is cause for alarm: $10 billion in damage as well as the incalculable cost of damaged or lost goods, services, and opportunity. Yet, not a single death is attributed to it and oddly, it wasn’t a ransomware attack after all. [...] Here’s what you need to know about NotPetya, history’s most destructive cyberattack.\\n\\n1. NotPetya fails to meet the definition of ransomware.',\n",
       "   'score': 0.7570233,\n",
       "   'raw_content': None},\n",
       "  {'url': 'https://www.sipa.columbia.edu/sites/default/files/2022-11/NotPetya%20Final.pdf',\n",
       "   'title': '[PDF] NotPetya: A Columbia University Case Study',\n",
       "   'content': 'sent troops to the Ukrainian border and had even annexed the peninsula of Crimea from the Ukraine by force in early March. By 2017, Ukrainian and Russian forces were still fighting., but Russia was preparing a different type of attack. In June 2017, they launched an unprecedented cyber attack to retaliate against business operating in the Ukraine, according to U.S. intelligence reports. This attack, now infamously known as “NotPetya,” paralyzed hundreds of private firms globally, from small, [...] a potent malware attack can be, not only because of the enormous monetary costs, but also because the production of essential medical products, including vaccines, were among the operations disrupted. These knock-on impacts by cyber attacks such as Not Petya on critical infrastructure and public safety are becoming increasingly clear as they become more frequent. Corporate and Political Consequences This event led Maersk to publicly commit to prioritizing its cybersecurity. The company has [...] Ukrainian family businesses to multibillion-dollar international business giants. As computer systems were compromised, data was encrypted and their networks disabled.3 One of the attack’s most high-profile corporate victims was Maersk, on whose experience with NotPetya this case study focuses. In 2017, it managed 76 ports across the globe and 800 sea vessels, representing nearly one-fifth of the entire planet’s shipping capacity. Thus, an attack on its operations would affect not only the',\n",
       "   'score': 0.74807674,\n",
       "   'raw_content': None},\n",
       "  {'url': 'https://www.cybereason.com/blog/blog-a-quick-recap-on-notpetya',\n",
       "   'title': 'A Quick Recap on NotPetya – An Unofficial Guide - Cybereason',\n",
       "   'content': 'NotPetya overwrites the Master Boot Record of the System with a malicious payload. It attempts to force a “Hard Error” within Windows to reboot the system. If that fails it also creates a task on the Windows system to initiate a reboot after a set delay. Upon reboot, the code inserted into the MBR executes and encrypts user files on the system. It creates a scheduled task on the infected system prior to reboot that will re-encrypt the system if it is recovered through other means. The “ransom” [...] NotPetya encrypts files only after the machine is rebooted - unlike most ransomware that encrypts files as soon as it executes. NotPetya spreads throughout the network, extracts admin credentials, and schedules a task to reboot the machine. As soon as a victim reboots their machine, NotPetya overwrites the Master Boot Record (MBR) with a malicious payload that encrypts the full disk. It kills itself prior to infection if the en_US keyboard layout is the only keyboard layout installed [...] MeDoc, a Ukraine financial company that makes accounting software, has been theorized to be the source of the infection. Allegedly, attackers breached the company and compromised a software update. The company has around 400,000 customers, providing the adversary with sizeable pool of victims. One strike against this theory: some of the organizations that were infected are not MeDoc customers. None of this has been confirmed and, at this time, is just a theory.\\n\\nWhat’s unique about NotPetya?',\n",
       "   'score': 0.7023877,\n",
       "   'raw_content': None},\n",
       "  {'url': 'https://www.1kosmos.com/security-glossary/notpetya/',\n",
       "   'title': 'What Is NotPetya? Biggest Modern Cyberattack in History? - 1Kosmos',\n",
       "   'content': '... cyber insurance and government-sponsored cyberattacks. ... The NotPetya attack reinforced the need for policymakers and regulators to address cybersecurity',\n",
       "   'score': 0.68090034,\n",
       "   'raw_content': None},\n",
       "  {'url': 'https://www.wired.com/story/notpetya-cyberattack-ukraine-russia-code-crashed-the-world/',\n",
       "   'title': 'The Untold Story of NotPetya, the Most Devastating Cyberattack in ...',\n",
       "   'content': \"Published Time: 2018-08-21T06:00:00.000-04:00\\nThe Untold Story of NotPetya, the Most Devastating Cyberattack in History | WIRED\\nSkip to main content\\nOpen Navigation Menu\\n\\nThe Untold Story of NotPetya, the Most Devastating Cyberattack in History\\n\\nSecurity\\nPolitics\\nGear\\nThe Big Story\\nBusiness\\nScience\\nCulture\\nIdeas\\nMerch\\n\\nSign In\\nSUBSCRIBE\\nGet 1 year of WIRED for ======================= ~$30~ $12 ========= Subscribe \\nSearch\\n\\nSecurity\\nPolitics\\nGear\\nThe Big Story\\nBusiness\\nScience\\nCulture\\nIdeas\\n\\nMerch [...] Podcasts\\n\\nVideo\\nNewsletters\\nMagazine\\nTravel\\nSteven Levy's Plaintext Column\\nWIRED Classics from the Archive\\nEvents\\nWIRED Insider\\nWIRED Consulting\\nCoupons\\n\\nClose\\nAndy Greenberg Excerpt\\nSecurity\\nAug 22, 2018 5:00 AM\\nThe Untold Story of NotPetya, the Most Devastating Cyberattack in History\\nCrippled ports. Paralyzed corporations. Frozen government agencies. How a single piece of code crashed the world.\",\n",
       "   'score': 0.66464967,\n",
       "   'raw_content': None}],\n",
       " 'response_time': 1.82}"
      ]
     },
     "execution_count": 3,
     "metadata": {},
     "output_type": "execute_result"
    }
   ],
   "source": [
    "response"
   ]
  }
 ],
 "metadata": {
  "kernelspec": {
   "display_name": "Python 3",
   "language": "python",
   "name": "python3"
  },
  "language_info": {
   "codemirror_mode": {
    "name": "ipython",
    "version": 3
   },
   "file_extension": ".py",
   "mimetype": "text/x-python",
   "name": "python",
   "nbconvert_exporter": "python",
   "pygments_lexer": "ipython3",
   "version": "3.10.0"
  }
 },
 "nbformat": 4,
 "nbformat_minor": 5
}
