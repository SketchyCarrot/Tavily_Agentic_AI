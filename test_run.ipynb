{
 "cells": [
  {
   "cell_type": "code",
   "execution_count": 113,
   "id": "0cc94dbe",
   "metadata": {},
   "outputs": [],
   "source": [
    "import getpass\n",
    "import os\n",
    "\n",
    "if not os.environ.get(\"GROQ_API_KEY\"):\n",
    "  os.environ[\"GROQ_API_KEY\"] = getpass.getpass(\"Enter API key for Groq: \")\n",
    "\n",
    "from langchain.chat_models import init_chat_model\n",
    "\n",
    "model = init_chat_model(\"llama3-8b-8192\", model_provider=\"groq\")"
   ]
  },
  {
   "cell_type": "code",
   "execution_count": 114,
   "id": "cab46c22",
   "metadata": {},
   "outputs": [],
   "source": [
    "template_string = \"\"\"Translate the text that is inside triple backticks into {style}. text: ```{text}```\"\"\""
   ]
  },
  {
   "cell_type": "code",
   "execution_count": 115,
   "id": "f1e575c8",
   "metadata": {},
   "outputs": [],
   "source": [
    "from langchain.prompts import ChatPromptTemplate\n",
    "\n",
    "promt_template = ChatPromptTemplate.from_template(template_string)"
   ]
  },
  {
   "cell_type": "code",
   "execution_count": 116,
   "id": "5f44ae58",
   "metadata": {},
   "outputs": [
    {
     "data": {
      "text/plain": [
       "['style', 'text']"
      ]
     },
     "execution_count": 116,
     "metadata": {},
     "output_type": "execute_result"
    }
   ],
   "source": [
    "promt_template.messages[0].input_variables"
   ]
  },
  {
   "cell_type": "code",
   "execution_count": 117,
   "id": "ecc27fcb",
   "metadata": {},
   "outputs": [],
   "source": [
    "custom_style = \"An otaku style\""
   ]
  },
  {
   "cell_type": "code",
   "execution_count": 118,
   "id": "64cbdb2f",
   "metadata": {},
   "outputs": [],
   "source": [
    "custom_text = \"The ice-cream truck is so far away and it asks for a 1000 rupees! So damn expensive!\""
   ]
  },
  {
   "cell_type": "code",
   "execution_count": 119,
   "id": "f26dd4f9",
   "metadata": {},
   "outputs": [],
   "source": [
    "custom_messages = promt_template.format_messages(\n",
    "        style=custom_style,\n",
    "        text=custom_text,\n",
    ")"
   ]
  },
  {
   "cell_type": "code",
   "execution_count": 120,
   "id": "dd6c395c",
   "metadata": {},
   "outputs": [
    {
     "name": "stdout",
     "output_type": "stream",
     "text": [
      "<class 'str'>\n"
     ]
    }
   ],
   "source": [
    "print(type(custom_text))"
   ]
  },
  {
   "cell_type": "code",
   "execution_count": 121,
   "id": "c57e2b84",
   "metadata": {},
   "outputs": [
    {
     "name": "stdout",
     "output_type": "stream",
     "text": [
      "<class 'str'>\n"
     ]
    }
   ],
   "source": [
    "print(type(custom_text[0]))"
   ]
  },
  {
   "cell_type": "code",
   "execution_count": 122,
   "id": "63bb9b8a",
   "metadata": {},
   "outputs": [
    {
     "name": "stdout",
     "output_type": "stream",
     "text": [
      "```Ah, gosh darn it! The ice cream truck is, like, totally out of reach, man! And it's asking for a whoppin' 1000 rupees?! Like, are you kiddin' me?! That's, like, soooo darn expensive! I mean, I know it's not every day you see an ice cream truck, but come on! Can't they, like, lower the price or somethin'?! I'm talkin' serious cash, dude! 1000 rupees is like, a whole lotta yen! I mean, I'd have to, like, sell my soul to the otaku gods to get that kind of cash!\n"
     ]
    }
   ],
   "source": [
    "response = model(custom_messages)\n",
    "print(response.content)"
   ]
  },
  {
   "cell_type": "code",
   "execution_count": 123,
   "id": "cac8a1d5",
   "metadata": {},
   "outputs": [],
   "source": [
    "from langchain.output_parsers import ResponseSchema, StructuredOutputParser"
   ]
  },
  {
   "cell_type": "code",
   "execution_count": 139,
   "id": "0f450169",
   "metadata": {},
   "outputs": [],
   "source": [
    "content_schema = ResponseSchema(name=\"content\", description=\"The bdy of the response.\")\n",
    "references_schema = ResponseSchema(name=\"references\", description=\"The references used to generate the response with links.\")"
   ]
  },
  {
   "cell_type": "code",
   "execution_count": 140,
   "id": "cbb22d2a",
   "metadata": {},
   "outputs": [],
   "source": [
    "response_schemas = [content_schema, references_schema]"
   ]
  },
  {
   "cell_type": "code",
   "execution_count": 141,
   "id": "607f16e7",
   "metadata": {},
   "outputs": [],
   "source": [
    "output_parser = StructuredOutputParser.from_response_schemas(response_schemas)"
   ]
  },
  {
   "cell_type": "code",
   "execution_count": 142,
   "id": "0e6d0da9",
   "metadata": {},
   "outputs": [],
   "source": [
    "format_instructions = output_parser.get_format_instructions()"
   ]
  },
  {
   "cell_type": "code",
   "execution_count": 143,
   "id": "8e93041d",
   "metadata": {},
   "outputs": [
    {
     "data": {
      "text/plain": [
       "'The output should be a markdown code snippet formatted in the following schema, including the leading and trailing \"```json\" and \"```\":\\n\\n```json\\n{\\n\\t\"content\": string  // The bdy of the response.\\n\\t\"references\": string  // The references used to generate the response with links.\\n}\\n```'"
      ]
     },
     "execution_count": 143,
     "metadata": {},
     "output_type": "execute_result"
    }
   ],
   "source": [
    "format_instructions"
   ]
  },
  {
   "cell_type": "code",
   "execution_count": 144,
   "id": "0cfaefe0",
   "metadata": {},
   "outputs": [],
   "source": [
    "research_template = \"\"\"Read about {topic} and list 5 interesting facts about it. {format_instructions}\"\"\""
   ]
  },
  {
   "cell_type": "code",
   "execution_count": 145,
   "id": "67309335",
   "metadata": {},
   "outputs": [],
   "source": [
    "prompt2 = ChatPromptTemplate.from_template(template=research_template)"
   ]
  },
  {
   "cell_type": "code",
   "execution_count": 146,
   "id": "3805c021",
   "metadata": {},
   "outputs": [],
   "source": [
    "research_topic = \"The WannaCry Cyber Attack\""
   ]
  },
  {
   "cell_type": "code",
   "execution_count": 147,
   "id": "406b63c9",
   "metadata": {},
   "outputs": [],
   "source": [
    "custom_query = prompt2.format_messages(\n",
    "    topic=research_topic,\n",
    "    format_instructions=format_instructions,\n",
    ")"
   ]
  },
  {
   "cell_type": "code",
   "execution_count": 148,
   "id": "47be4fc2",
   "metadata": {},
   "outputs": [],
   "source": [
    "answer = model(custom_query)"
   ]
  },
  {
   "cell_type": "code",
   "execution_count": 149,
   "id": "2aab5a25",
   "metadata": {},
   "outputs": [
    {
     "name": "stdout",
     "output_type": "stream",
     "text": [
      "```json\n",
      "{\n",
      "  \"content\": \"\n",
      "**The WannaCry Cyber Attack: 5 Interesting Facts**\n",
      "\n",
      "### 1. **Global Impact**: WannaCry was a global cyber attack that affected over 200,000 computers in more than 150 countries. It was one of the most widespread cyber attacks in history.\n",
      "\n",
      "### 2. **EternalBlue Exploit**: WannaCry used the EternalBlue exploit, a Windows vulnerability that was discovered by the NSA and leaked by the Shadow Brokers hacking group. This exploit allowed the malware to spread quickly across networks.\n",
      "\n",
      "### 3. **Ransomware**: WannaCry was a ransomware attack, meaning that it encrypted files on infected computers and demanded payment in Bitcoin to restore access. The ransom demand was around $300-$600 per victim.\n",
      "\n",
      "### 4. **National Health Service (NHS) Impact**: The WannaCry attack had a significant impact on the UK's National Health Service (NHS), with many hospitals and clinics forced to shut down their IT systems. This led to delays and cancellations of medical treatments.\n",
      "\n",
      "### 5. **Patch Wednesday**: The WannaCry attack highlighted the importance of keeping software up to date. Microsoft had released a patch for the EternalBlue vulnerability in March 2017, but many users had not applied it. This led to the widespread spread of the malware. As a result, Microsoft introduced 'Patch Tuesday', a monthly update cycle to ensure users stay secure.\n",
      "\",\n",
      "  \"references\": \"https://en.wikipedia.org/wiki/WannaCry_ransomware_attack\"\n",
      "}\n",
      "```\n"
     ]
    }
   ],
   "source": [
    "print(answer.content)"
   ]
  },
  {
   "cell_type": "code",
   "execution_count": 150,
   "id": "46fbd2c7",
   "metadata": {},
   "outputs": [],
   "source": [
    "output_dictionary = output_parser.parse(answer.content)"
   ]
  },
  {
   "cell_type": "code",
   "execution_count": 151,
   "id": "59d25f8e",
   "metadata": {},
   "outputs": [
    {
     "data": {
      "text/plain": [
       "\"\\n**The WannaCry Cyber Attack: 5 Interesting Facts**\\n\\n### 1. **Global Impact**: WannaCry was a global cyber attack that affected over 200,000 computers in more than 150 countries. It was one of the most widespread cyber attacks in history.\\n\\n### 2. **EternalBlue Exploit**: WannaCry used the EternalBlue exploit, a Windows vulnerability that was discovered by the NSA and leaked by the Shadow Brokers hacking group. This exploit allowed the malware to spread quickly across networks.\\n\\n### 3. **Ransomware**: WannaCry was a ransomware attack, meaning that it encrypted files on infected computers and demanded payment in Bitcoin to restore access. The ransom demand was around $300-$600 per victim.\\n\\n### 4. **National Health Service (NHS) Impact**: The WannaCry attack had a significant impact on the UK's National Health Service (NHS), with many hospitals and clinics forced to shut down their IT systems. This led to delays and cancellations of medical treatments.\\n\\n### 5. **Patch Wednesday**: The WannaCry attack highlighted the importance of keeping software up to date. Microsoft had released a patch for the EternalBlue vulnerability in March 2017, but many users had not applied it. This led to the widespread spread of the malware. As a result, Microsoft introduced 'Patch Tuesday', a monthly update cycle to ensure users stay secure.\\n\""
      ]
     },
     "execution_count": 151,
     "metadata": {},
     "output_type": "execute_result"
    }
   ],
   "source": [
    "output_dictionary.get(\"content\")"
   ]
  },
  {
   "cell_type": "code",
   "execution_count": 152,
   "id": "395daa11",
   "metadata": {},
   "outputs": [
    {
     "data": {
      "text/plain": [
       "'https://en.wikipedia.org/wiki/WannaCry_ransomware_attack'"
      ]
     },
     "execution_count": 152,
     "metadata": {},
     "output_type": "execute_result"
    }
   ],
   "source": [
    "output_dictionary.get(\"references\")"
   ]
  },
  {
   "cell_type": "code",
   "execution_count": null,
   "id": "6b8e2bab",
   "metadata": {},
   "outputs": [],
   "source": []
  }
 ],
 "metadata": {
  "kernelspec": {
   "display_name": "Python 3",
   "language": "python",
   "name": "python3"
  },
  "language_info": {
   "codemirror_mode": {
    "name": "ipython",
    "version": 3
   },
   "file_extension": ".py",
   "mimetype": "text/x-python",
   "name": "python",
   "nbconvert_exporter": "python",
   "pygments_lexer": "ipython3",
   "version": "3.10.0"
  }
 },
 "nbformat": 4,
 "nbformat_minor": 5
}
